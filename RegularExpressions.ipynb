{
 "cells": [
  {
   "cell_type": "code",
   "execution_count": 1,
   "metadata": {},
   "outputs": [],
   "source": [
    "import re"
   ]
  },
  {
   "cell_type": "markdown",
   "metadata": {},
   "source": [
    "# TASK 1\n",
    "### 1.1 Replace all duplicated letters"
   ]
  },
  {
   "cell_type": "code",
   "execution_count": 5,
   "metadata": {
    "scrolled": true
   },
   "outputs": [
    {
     "name": "stdout",
     "output_type": "stream",
     "text": [
      "Mus musculus\n",
      "Agalma elegans\n",
      "Frillagalma vityazi\n",
      "Cordagalma tottoni\n"
     ]
    }
   ],
   "source": [
    "f = \"Mus musculus\\nAgalma elegans\\nFrillagalma vityazi\\nCordagalma tottoni\"\n",
    "print(f)"
   ]
  },
  {
   "cell_type": "code",
   "execution_count": 6,
   "metadata": {},
   "outputs": [
    {
     "name": "stdout",
     "output_type": "stream",
     "text": [
      "Mus musculus\n",
      "Agalma elegans\n",
      "Frilagalma vityazi\n",
      "Cordagalma totoni\n"
     ]
    }
   ],
   "source": [
    "d_f = re.sub(r\"(.)\\1\", r\"\\1\", f)\n",
    "print(d_f)\n",
    "\n",
    "# Frillagalma / tottoni"
   ]
  },
  {
   "cell_type": "markdown",
   "metadata": {},
   "source": [
    "### 1.2 Mus musculus -> M. musculus ...."
   ]
  },
  {
   "cell_type": "code",
   "execution_count": 32,
   "metadata": {},
   "outputs": [
    {
     "data": {
      "text/plain": [
       "['Mus musculus', 'Agalma elegans', 'Frillagalma vityazi', 'Cordagalma tottoni']"
      ]
     },
     "execution_count": 32,
     "metadata": {},
     "output_type": "execute_result"
    }
   ],
   "source": [
    "ff = f.split(\"\\n\")\n",
    "ff"
   ]
  },
  {
   "cell_type": "code",
   "execution_count": 47,
   "metadata": {},
   "outputs": [
    {
     "name": "stdout",
     "output_type": "stream",
     "text": [
      "M. musculus\n",
      "A. elegans\n",
      "F. vityazi\n",
      "C. tottoni\n"
     ]
    }
   ],
   "source": [
    "for line in ff:\n",
    "    print(re.sub(r\"(\\w).*\\s(\\w+)$\", r\"\\1. \\2\", line))"
   ]
  },
  {
   "cell_type": "markdown",
   "metadata": {},
   "source": [
    "### 1.3 Mus musculus (Y456) -> M.musculus Y456 ..."
   ]
  },
  {
   "cell_type": "code",
   "execution_count": 52,
   "metadata": {},
   "outputs": [
    {
     "data": {
      "text/plain": [
       "['Mus musculus (Y456)',\n",
       " 'Agalma elegans (AB34)',\n",
       " 'Frillagalma vityazi',\n",
       " 'Cordagalma tottoni']"
      ]
     },
     "execution_count": 52,
     "metadata": {},
     "output_type": "execute_result"
    }
   ],
   "source": [
    "ff_num = ['Mus musculus (Y456)', 'Agalma elegans (AB34)', 'Frillagalma vityazi', 'Cordagalma tottoni']\n",
    "ff_num"
   ]
  },
  {
   "cell_type": "code",
   "execution_count": 63,
   "metadata": {},
   "outputs": [
    {
     "name": "stdout",
     "output_type": "stream",
     "text": [
      "M.musculus Y456\n",
      "A.elegans AB34\n",
      "F.vityazi \n",
      "C.tottoni \n"
     ]
    }
   ],
   "source": [
    "for line in ff_num:\n",
    "    print(re.sub(r\"(\\w).*\\s(\\w+)\\s*\\(*(\\w*)\\)*\", r\"\\1.\\2 \\3\", line))"
   ]
  }
 ],
 "metadata": {
  "kernelspec": {
   "display_name": "Python 3",
   "language": "python",
   "name": "python3"
  },
  "language_info": {
   "codemirror_mode": {
    "name": "ipython",
    "version": 3
   },
   "file_extension": ".py",
   "mimetype": "text/x-python",
   "name": "python",
   "nbconvert_exporter": "python",
   "pygments_lexer": "ipython3",
   "version": "3.8.5"
  }
 },
 "nbformat": 4,
 "nbformat_minor": 4
}
