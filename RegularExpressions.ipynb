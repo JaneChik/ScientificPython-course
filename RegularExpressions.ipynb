{
 "cells": [
  {
   "cell_type": "code",
   "execution_count": 3,
   "metadata": {},
   "outputs": [],
   "source": [
    "import re"
   ]
  },
  {
   "cell_type": "markdown",
   "metadata": {},
   "source": [
    "# TASK 1\n",
    "### 1.1 Replace all duplicated letters"
   ]
  },
  {
   "cell_type": "code",
   "execution_count": 28,
   "metadata": {
    "scrolled": true
   },
   "outputs": [
    {
     "name": "stdout",
     "output_type": "stream",
     "text": [
      "Orrange\n",
      "Peaar\n",
      "Tomatto\n"
     ]
    }
   ],
   "source": [
    "dup = \"Orrange\\nPeaar\\nTomatto\"\n",
    "print(dup)"
   ]
  },
  {
   "cell_type": "code",
   "execution_count": 29,
   "metadata": {},
   "outputs": [
    {
     "name": "stdout",
     "output_type": "stream",
     "text": [
      "Orange\n",
      "Pear\n",
      "Tomato\n"
     ]
    }
   ],
   "source": [
    "no_dup = re.sub(r\"(.)\\1\", r\"\\1\", dup)\n",
    "print(no_dup)"
   ]
  },
  {
   "cell_type": "markdown",
   "metadata": {},
   "source": [
    "### 1.2 Mus musculus -> M. musculus ...."
   ]
  },
  {
   "cell_type": "code",
   "execution_count": 30,
   "metadata": {},
   "outputs": [
    {
     "name": "stdout",
     "output_type": "stream",
     "text": [
      "Mus musculus\n",
      "Agalma elegans\n",
      "Frillagalma vityazi\n",
      "Cordagalma tottoni\n"
     ]
    }
   ],
   "source": [
    "f = \"Mus musculus\\nAgalma elegans\\nFrillagalma vityazi\\nCordagalma tottoni\"\n",
    "print(f)"
   ]
  },
  {
   "cell_type": "code",
   "execution_count": 31,
   "metadata": {},
   "outputs": [
    {
     "data": {
      "text/plain": [
       "['Mus musculus', 'Agalma elegans', 'Frillagalma vityazi', 'Cordagalma tottoni']"
      ]
     },
     "execution_count": 31,
     "metadata": {},
     "output_type": "execute_result"
    }
   ],
   "source": [
    "ff = f.split(\"\\n\")\n",
    "ff"
   ]
  },
  {
   "cell_type": "code",
   "execution_count": 32,
   "metadata": {},
   "outputs": [
    {
     "name": "stdout",
     "output_type": "stream",
     "text": [
      "M. musculus\n",
      "A. elegans\n",
      "F. vityazi\n",
      "C. tottoni\n"
     ]
    }
   ],
   "source": [
    "for line in ff:\n",
    "    print(re.sub(r\"(\\w).*\\s(\\w+)$\", r\"\\1. \\2\", line))"
   ]
  },
  {
   "cell_type": "markdown",
   "metadata": {},
   "source": [
    "### 1.3 Mus musculus (Y456) -> M.musculus Y456 ..."
   ]
  },
  {
   "cell_type": "code",
   "execution_count": 33,
   "metadata": {},
   "outputs": [
    {
     "data": {
      "text/plain": [
       "['Mus musculus (Y456)',\n",
       " 'Agalma elegans (AB34)',\n",
       " 'Frillagalma vityazi',\n",
       " 'Cordagalma tottoni']"
      ]
     },
     "execution_count": 33,
     "metadata": {},
     "output_type": "execute_result"
    }
   ],
   "source": [
    "ff_num = ['Mus musculus (Y456)', 'Agalma elegans (AB34)', 'Frillagalma vityazi', 'Cordagalma tottoni']\n",
    "ff_num"
   ]
  },
  {
   "cell_type": "code",
   "execution_count": 34,
   "metadata": {},
   "outputs": [
    {
     "name": "stdout",
     "output_type": "stream",
     "text": [
      "M.musculus Y456\n",
      "A.elegans AB34\n",
      "F.vityazi \n",
      "C.tottoni \n"
     ]
    }
   ],
   "source": [
    "for line in ff_num:\n",
    "    print(re.sub(r\"(\\w).*\\s(\\w+)\\s*\\(*(\\w*)\\)*\", r\"\\1.\\2 \\3\", line))"
   ]
  },
  {
   "cell_type": "markdown",
   "metadata": {},
   "source": [
    "# TASK 2\n",
    "###  Searching for active site in isocitrate lyase "
   ]
  },
  {
   "cell_type": "code",
   "execution_count": 35,
   "metadata": {},
   "outputs": [],
   "source": [
    "ncbi_id = \"CAC30940.1\" # isocitrate lyase [Mycobacterium leprae]\n",
    "prot_seq = \"MAGIPATVVQRCNSTNLDDRLHYSPLGDRAKEERNPMAIMDTNTEVHTLFTQEVAATQQYFDDPRFAGII\\\n",
    "RLYTARQVVEQRGTIPTDYTVARDAATAFYARLRELFAAGKSVTTFGPYSPGQAVSLKRMGIEAIYLGGW\\\n",
    "ATSAKGSITEDPGPDLASYPLSQVPDDAAVLVRALLAADRNQQYLRLHMTEQQRAATPAYDYRPFIIADA\\\n",
    "DTGHGGDSHVRNLIRRFVEIGVPGYHIEDQRPGTKKCGHQGGKVLVPSDEQIKRLNAARFQLDIMRVPGI\\\n",
    "IVARTDAEAANLIDSRADERDQPFLLGATNLKIPSYKACFLALVRCFYELGVKELHGHLLYALGDGEYAA\\\n",
    "ASAWLDRQGILAQVSGTVNAWQENGKQSIDDLFEQVEYRLLAAWEKDAGLMTYGEAVEEMLQFGESEGEL\\\n",
    "IGMSPEEWRRFVGRASLYAAREKAKELGVDPGWDCELAKTPEGYYQIRGGIQYAIAKSLAAAPFADILWM\\\n",
    "ETKTADLADARQFAEAIHAEFPEQMLAYNLSPSFNWDTTGMSDEEMKRFPEELGKMGFVFNFITYGGHQI\\\n",
    "DGVAAEEFATALRQDGMLALARLQRKMRLVESPYRTPQTLVGGPRSDAALAASSGRTATTKAMGKGSTQH\\\n",
    "QHLVQTEVPKKLLEEWLALWSEHYQLGEKLRVQLRPRRAGSDVLELGIYGNGDEQLANVIVDPIKDRRGR\\\n",
    "SILQVRDQNTFAEKLRQKRLMTLIHFWLVHRFKADTVIYVTPTEDNLYQTSKMKSHGIFSEVYQEVGEII\\\n",
    "VAEVNHPRLVELLTPDRVALRRLITKEG\"\n"
   ]
  },
  {
   "cell_type": "code",
   "execution_count": 36,
   "metadata": {},
   "outputs": [],
   "source": [
    "# PROSITE pattern: K-[KR]-C-G-H-[LMQR]\n",
    "pattern = r\"K[KR]CGH[LMQR]\"\n",
    "isocitrate_rgx = re.compile(pattern)\n",
    "\n",
    "active_site = isocitrate_rgx.search(prot_seq)"
   ]
  },
  {
   "cell_type": "code",
   "execution_count": 37,
   "metadata": {},
   "outputs": [
    {
     "name": "stdout",
     "output_type": "stream",
     "text": [
      "Isocitrate lyase CAC30940.1 contains its active site KKCGHQ starting from 245th position.\n"
     ]
    }
   ],
   "source": [
    "print(f\"Isocitrate lyase {ncbi_id} contains its active site {active_site.group()} \\\n",
    "starting from {active_site.start() + 1}th position.\")"
   ]
  }
 ],
 "metadata": {
  "kernelspec": {
   "display_name": "Python 3",
   "language": "python",
   "name": "python3"
  },
  "language_info": {
   "codemirror_mode": {
    "name": "ipython",
    "version": 3
   },
   "file_extension": ".py",
   "mimetype": "text/x-python",
   "name": "python",
   "nbconvert_exporter": "python",
   "pygments_lexer": "ipython3",
   "version": "3.8.5"
  }
 },
 "nbformat": 4,
 "nbformat_minor": 4
}
