{
 "cells": [
  {
   "cell_type": "markdown",
   "id": "5356f2fc",
   "metadata": {},
   "source": [
    "# Import"
   ]
  },
  {
   "cell_type": "code",
   "execution_count": 30,
   "id": "109534f3",
   "metadata": {},
   "outputs": [],
   "source": [
    "import re"
   ]
  },
  {
   "cell_type": "markdown",
   "id": "41e714ae",
   "metadata": {},
   "source": [
    "# Functions"
   ]
  },
  {
   "cell_type": "code",
   "execution_count": 31,
   "id": "35146563",
   "metadata": {},
   "outputs": [],
   "source": [
    "def number_of_gc_string(string):\n",
    "    gc = re.findall(r\"[GC]\", string)\n",
    "    return len(gc)"
   ]
  },
  {
   "cell_type": "code",
   "execution_count": 32,
   "id": "f28e8481",
   "metadata": {},
   "outputs": [],
   "source": [
    "def string_probability(string, gc_content):\n",
    "    gc = number_of_gc_string(string)\n",
    "    at = len(string) - gc\n",
    "    gc_prob = (0.5 * gc_content)**gc\n",
    "    at_prob = (0.5 * (1 - gc_content))**at\n",
    "    return gc_prob * at_prob"
   ]
  },
  {
   "cell_type": "code",
   "execution_count": 33,
   "id": "a7200631",
   "metadata": {},
   "outputs": [],
   "source": [
    "def probability_s_in_N(string, gc_content, N):\n",
    "    str_prob = string_probability(string, gc_content)\n",
    "    notStr_in_N = (1 - str_prob)**N\n",
    "    str_in_N = 1 - notStr_in_N\n",
    "    return str_in_N"
   ]
  },
  {
   "cell_type": "markdown",
   "id": "aa85ad4d",
   "metadata": {},
   "source": [
    "# Test script"
   ]
  },
  {
   "cell_type": "code",
   "execution_count": 34,
   "id": "e8c96bac",
   "metadata": {},
   "outputs": [],
   "source": [
    "string = 'ATAGCCGA'\n",
    "N = 90000\n",
    "gc_content = 0.6"
   ]
  },
  {
   "cell_type": "code",
   "execution_count": 35,
   "id": "10324ee9",
   "metadata": {},
   "outputs": [
    {
     "name": "stdout",
     "output_type": "stream",
     "text": [
      "0.6885160784606543\n"
     ]
    }
   ],
   "source": [
    "print(probability_s_in_N(string, gc_content, N))"
   ]
  }
 ],
 "metadata": {
  "kernelspec": {
   "display_name": "Python 3",
   "language": "python",
   "name": "python3"
  },
  "language_info": {
   "codemirror_mode": {
    "name": "ipython",
    "version": 3
   },
   "file_extension": ".py",
   "mimetype": "text/x-python",
   "name": "python",
   "nbconvert_exporter": "python",
   "pygments_lexer": "ipython3",
   "version": "3.8.8"
  }
 },
 "nbformat": 4,
 "nbformat_minor": 5
}
