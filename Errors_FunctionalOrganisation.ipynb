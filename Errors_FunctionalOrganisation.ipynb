{
 "cells": [
  {
   "cell_type": "markdown",
   "id": "dac0e68c",
   "metadata": {},
   "source": [
    "# Import"
   ]
  },
  {
   "cell_type": "code",
   "execution_count": 1,
   "id": "003daa1a",
   "metadata": {},
   "outputs": [],
   "source": [
    "import re"
   ]
  },
  {
   "cell_type": "markdown",
   "id": "f0cd86b5",
   "metadata": {},
   "source": [
    "# Functions"
   ]
  },
  {
   "cell_type": "code",
   "execution_count": 2,
   "id": "76811a81",
   "metadata": {},
   "outputs": [],
   "source": [
    "def number_of_gc_string(string):\n",
    "    gc = re.findall(r\"[GC]\", string)\n",
    "    return len(gc)"
   ]
  },
  {
   "cell_type": "code",
   "execution_count": 3,
   "id": "b6e306c2",
   "metadata": {},
   "outputs": [],
   "source": [
    "def string_probability(string, gc_content):\n",
    "    \n",
    "    gc = number_of_gc_string(string)\n",
    "    at = len(string) - gc\n",
    "    \n",
    "    gc_prob = (0.5 * gc_content)**gc\n",
    "    at_prob = (0.5 * (1 - gc_content))**at\n",
    "    \n",
    "    return gc_prob * at_prob"
   ]
  },
  {
   "cell_type": "code",
   "execution_count": 4,
   "id": "e4b54d54",
   "metadata": {},
   "outputs": [],
   "source": [
    "def probability_s_in_N(string, gc_content, N):\n",
    "    str_prob = string_probability(string, gc_content)\n",
    "    \n",
    "    pr_notStr_in_N = (1 - str_prob)**N\n",
    "    pr_str_in_N = 1 - pr_notStr_in_N\n",
    "    \n",
    "    return pr_str_in_N"
   ]
  },
  {
   "cell_type": "markdown",
   "id": "8c98e25c",
   "metadata": {},
   "source": [
    "# Test script"
   ]
  },
  {
   "cell_type": "code",
   "execution_count": 5,
   "id": "3b260855",
   "metadata": {},
   "outputs": [],
   "source": [
    "string = 'ATAGCCGA'\n",
    "N = 90000\n",
    "gc_content = 0.6"
   ]
  },
  {
   "cell_type": "code",
   "execution_count": 6,
   "id": "6c6295b7",
   "metadata": {},
   "outputs": [
    {
     "name": "stdout",
     "output_type": "stream",
     "text": [
      "0.6885160784606543\n"
     ]
    }
   ],
   "source": [
    "print(probability_s_in_N(string, gc_content, N))"
   ]
  }
 ],
 "metadata": {
  "kernelspec": {
   "display_name": "Python 3",
   "language": "python",
   "name": "python3"
  },
  "language_info": {
   "codemirror_mode": {
    "name": "ipython",
    "version": 3
   },
   "file_extension": ".py",
   "mimetype": "text/x-python",
   "name": "python",
   "nbconvert_exporter": "python",
   "pygments_lexer": "ipython3",
   "version": "3.8.8"
  }
 },
 "nbformat": 4,
 "nbformat_minor": 5
}
