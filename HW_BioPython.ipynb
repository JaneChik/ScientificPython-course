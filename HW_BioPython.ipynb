{
 "cells": [
  {
   "cell_type": "markdown",
   "metadata": {},
   "source": [
    "# BioPython"
   ]
  },
  {
   "cell_type": "markdown",
   "metadata": {},
   "source": [
    "## TASK 1\n",
    "### Own fasta parser"
   ]
  },
  {
   "cell_type": "code",
   "execution_count": 5,
   "metadata": {},
   "outputs": [],
   "source": [
    "# 1\n",
    "'''\n",
    "Let's remeber how to use dictionaries.\n",
    "Task: return a dictionary where \n",
    "    * keys are IDs of seqs from an input fasta file (prot.fasta),\n",
    "    * key's values are seqs itself. \n",
    "'''\n",
    "\n",
    "def my_own_fasta_parser(inFile):\n",
    "\n",
    "    sequences = {}\n",
    "\n",
    "    with open(inFile, \"r\") as file:\n",
    "        \n",
    "        for line in file:\n",
    "            line = line.strip()\n",
    "            if line[0] == \">\":\n",
    "                seq_id = line[1:]\n",
    "            else:\n",
    "                sequences[seq_id] = line\n",
    "\n",
    "    return sequences"
   ]
  },
  {
   "cell_type": "code",
   "execution_count": 6,
   "metadata": {},
   "outputs": [
    {
     "data": {
      "text/plain": [
       "{'seq0': 'FQTWEEFSRAAEKLYLADPMKVRVVLKYRHVDGNLCIKVTDDLVCLVYRTDQAQDVKKIEKF',\n",
       " 'seq1': 'KYRTWEEFTRAAEKLYQADPMKVRVVLKYRHCDGNLCIKVTDDVVCLLYRTDQAQDVKKIEKFHSQLMRLME LKVTDNKECLKFKTDQAQEAKKMEKLNNIFFTLM',\n",
       " 'seq2': 'EEYQTWEEFARAAEKLYLTDPMKVRVVLKYRHCDGNLCMKVTDDAVCLQYKTDQAQDVKKVEKLHGK',\n",
       " 'seq3': 'MYQVWEEFSRAVEKLYLTDPMKVRVVLKYRHCDGNLCIKVTDNSVCLQYKTDQAQDVK',\n",
       " 'seq4': 'EEFSRAVEKLYLTDPMKVRVVLKYRHCDGNLCIKVTDNSVVSYEMRLFGVQKDNFALEHSLL',\n",
       " 'seq5': 'SWEEFAKAAEVLYLEDPMKCRMCTKYRHVDHKLVVKLTDNHTVLKYVTDMAQDVKKIEKLTTLLMR',\n",
       " 'seq6': 'FTNWEEFAKAAERLHSANPEKCRFVTKYNHTKGELVLKLTDDVVCLQYSTNQLQDVKKLEKLSSTLLRSI',\n",
       " 'seq7': 'SWEEFVERSVQLFRGDPNATRYVMKYRHCEGKLVLKVTDDRECLKFKTDQAQDAKKMEKLNNIFF',\n",
       " 'seq8': 'SWDEFVDRSVQLFRADPESTRYVMKYRHCDGKLVLKVTDNKECLKFKTDQAQEAKKMEKLNNIFFTLM',\n",
       " 'seq9': 'KNWEDFEIAAENMYMANPQNCRYTMKYVHSKGHILLKMSDNVKCVQYRAENMPDLKK',\n",
       " 'seq10': 'FDSWDEFVSKSVELFRNHPDTTRYVVKYRHCEGKLVLKVTDNHECLKFKTDQAQDAKKMEK'}"
      ]
     },
     "execution_count": 6,
     "metadata": {},
     "output_type": "execute_result"
    }
   ],
   "source": [
    "my_own_fasta_parser(\"prot.fasta\")"
   ]
  },
  {
   "cell_type": "markdown",
   "metadata": {},
   "source": [
    "## TASK 2\n",
    "### Residue abundance"
   ]
  },
  {
   "cell_type": "code",
   "execution_count": 10,
   "metadata": {},
   "outputs": [],
   "source": [
    "# 2\n",
    "'''\n",
    "Another super easy task.\n",
    "\n",
    "We have the same fasta file (prot.fasta).\n",
    "Now we want to get a list with the ids of protein seqs that have \n",
    "a relative frequency higher than a given threshold for a given residue.\n",
    "\n",
    "And don't forget to use my_own_fasta_parser function from a previous task!\n",
    "'''\n",
    "import re\n",
    "\n",
    "def my_own_residue_abundance(input_file, residue, threshold=0.2):\n",
    "    \n",
    "    seq_ids = []\n",
    "    sequences = my_own_fasta_parser(input_file)\n",
    "\n",
    "    for seq_id, sequence in sequences.items():\n",
    "        freq = len(re.findall(residue, sequence)) / len(sequence)\n",
    "        if freq > threshold:\n",
    "            seq_ids.append(seq_id)\n",
    "\n",
    "    return seq_ids"
   ]
  },
  {
   "cell_type": "code",
   "execution_count": 20,
   "metadata": {},
   "outputs": [
    {
     "data": {
      "text/plain": [
       "['seq1', 'seq2', 'seq5', 'seq8', 'seq10']"
      ]
     },
     "execution_count": 20,
     "metadata": {},
     "output_type": "execute_result"
    }
   ],
   "source": [
    "my_own_residue_abundance(\"prot.fasta\", \"K\", 0.13)"
   ]
  },
  {
   "cell_type": "markdown",
   "metadata": {},
   "source": [
    "*Check the relative abundance for each sequence*"
   ]
  },
  {
   "cell_type": "code",
   "execution_count": 31,
   "metadata": {},
   "outputs": [
    {
     "name": "stdout",
     "output_type": "stream",
     "text": [
      "seq0 - 0.11290322580645161\n",
      "seq1 - 0.14018691588785046\n",
      "seq2 - 0.13432835820895522\n",
      "seq3 - 0.10344827586206896\n",
      "seq4 - 0.08064516129032258\n",
      "seq5 - 0.13636363636363635\n",
      "seq6 - 0.11428571428571428\n",
      "seq7 - 0.12307692307692308\n",
      "seq8 - 0.1323529411764706\n",
      "seq9 - 0.12280701754385964\n",
      "seq10 - 0.14754098360655737\n"
     ]
    }
   ],
   "source": [
    "from collections import Counter\n",
    "\n",
    "sequences = my_own_fasta_parser(\"prot.fasta\")\n",
    "check = {}\n",
    "for seq_id, seq in sequences.items():\n",
    "    check[seq_id] = {key: value/len(seq) for key,value in Counter(seq).items()}[\"K\"]\n",
    "    print(seq_id, \"-\", check[seq_id])\n"
   ]
  },
  {
   "cell_type": "markdown",
   "metadata": {},
   "source": [
    "*Everything works fine*"
   ]
  },
  {
   "cell_type": "markdown",
   "metadata": {},
   "source": [
    "## TASK 3\n",
    "### Filtering for fasta files"
   ]
  },
  {
   "cell_type": "code",
   "execution_count": 26,
   "metadata": {},
   "outputs": [],
   "source": [
    "# 3\n",
    "'''\n",
    "Let's practice in Bio package using.\n",
    "Task:\n",
    "1. read fasta file containing several DNA seqs (nucl.fasta)\n",
    "2. subset seqs that have GC content > 45 and coding protein with aromaticity > 0.01\n",
    "3. write a new fasta file with those protein(!) seqs\n",
    "4. return the percentage of seqs that passed your filter\n",
    "Hint: Bio.SeqIO, Bio.SeqRecord, Bio.SeqUtils\n",
    "'''\n",
    "from Bio import SeqIO\n",
    "from Bio.Seq import Seq\n",
    "from Bio.SeqRecord import SeqRecord\n",
    "from Bio.SeqUtils import GC\n",
    "from Bio.SeqUtils.ProtParam import ProteinAnalysis\n",
    "\n",
    "def my_own_filtering(input_file, output_file, filt_gc=45, filt_arom=0.01):\n",
    "    \n",
    "    sequences = {}\n",
    "    c = 0\n",
    "    \n",
    "    with open(input_file, \"r\") as content:\n",
    "        \n",
    "        for record in SeqIO.parse(content, \"fasta\"):\n",
    "            c+=1\n",
    "            \n",
    "            # calculate GC content using Bio\n",
    "            calc_gc = GC(record.seq)\n",
    "            \n",
    "            # calculate aromaticity using Bio\n",
    "            protein = str(record.seq.translate())\n",
    "            x = ProteinAnalysis(protein)\n",
    "            calc_arom = x.aromaticity()\n",
    "            \n",
    "            # so, now you can filter\n",
    "            if calc_gc >= filt_gc and calc_arom >= filt_arom:\n",
    "                sequences[record.id] = protein\n",
    "    \n",
    "    # write a new fasta file with aminoacids\n",
    "    records = []\n",
    "    for seq_id, seq in sequences.items():\n",
    "        rec = SeqRecord(Seq(seq), id=seq_id, description=\"\")\n",
    "        records.append(rec)\n",
    "    handle = open(output_file, \"w\")\n",
    "    SeqIO.write(records, handle, \"fasta\")\n",
    "    handle.close()\n",
    "\n",
    "    # print the percentage\n",
    "    perc = \"%.2f\" % (len(records) / c * 100)\n",
    "    print(f\"Percentage of seqs that passed the filter: [GC content > 45, aromaticity > 0.01]: {perc}%\")"
   ]
  },
  {
   "cell_type": "code",
   "execution_count": 27,
   "metadata": {},
   "outputs": [
    {
     "name": "stdout",
     "output_type": "stream",
     "text": [
      "Percentage of seqs that passed the filter: [GC content > 45, aromaticity > 0.01]: 28.57%\n"
     ]
    }
   ],
   "source": [
    "my_own_filtering(\"nucl.fasta\", \"filtered_nucl.fasta\")"
   ]
  },
  {
   "cell_type": "markdown",
   "metadata": {},
   "source": [
    "## TASK 4\n",
    "### Best alignment"
   ]
  },
  {
   "cell_type": "code",
   "execution_count": 3,
   "metadata": {},
   "outputs": [],
   "source": [
    "# 4\n",
    "\"\"\"\n",
    "Continue practicing in Bio package using:\n",
    "Task:\n",
    "complete the following code that should be able to return \n",
    "the best alignment of two amino acid seqs (pairwise2.align.globalds)\n",
    "based on BLOSUM62 matrix from Bio.SubsMat.MatrixInfo.\n",
    "http://rosalind.info/glossary/blosum62/\n",
    "\"\"\"\n",
    "\n",
    "from Bio import pairwise2\n",
    "from Bio.Align import substitution_matrices\n",
    "from Bio.pairwise2 import format_alignment\n",
    "\n",
    "def balign(first_seq, second_seq, gap_open=-10, gap_ext=-0.5):\n",
    "\n",
    "    # Load the matrix\n",
    "    matrix = substitution_matrices.load(\"BLOSUM62\")\n",
    "\n",
    "    # Generate the alignments\n",
    "    alns = pairwise2.align.globalds(first_seq, second_seq, matrix,\n",
    "                                    gap_open, gap_ext)\n",
    "\n",
    "    # Extract the best alignment (first one in the alns list)\n",
    "    top_aln = alns[0]\n",
    "\n",
    "    # Print the alignment, ...\n",
    "    aln_A, aln_B, score, begin, end = top_aln\n",
    "    ans = format_alignment(aln_A, aln_B, score, begin, end)  \n",
    "           \n",
    "    return ans"
   ]
  },
  {
   "cell_type": "code",
   "execution_count": 5,
   "metadata": {},
   "outputs": [
    {
     "name": "stdout",
     "output_type": "stream",
     "text": [
      "EEYQTWEEFARAAEKLYLTDPMKVRVVLKYRHCDGNLCMKVTDDAVCLQYKTDQAQDVKKVEKLHGK\n",
      " .||.||||.||.|||||||||||||||||||||||||.||||..|||||||||||||        |\n",
      "-MYQVWEEFSRAVEKLYLTDPMKVRVVLKYRHCDGNLCIKVTDNSVCLQYKTDQAQDV--------K\n",
      "  Score=259.5\n",
      "\n"
     ]
    }
   ],
   "source": [
    "al = balign('EEYQTWEEFARAAEKLYLTDPMKVRVVLKYRHCDGNLCMKVTDDAVCLQYKTDQAQDVKKVEKLHGK',\n",
    "            'MYQVWEEFSRAVEKLYLTDPMKVRVVLKYRHCDGNLCIKVTDNSVCLQYKTDQAQDVK')\n",
    "print(al)"
   ]
  },
  {
   "cell_type": "markdown",
   "metadata": {},
   "source": [
    "## TASK 5\n",
    "### Translation"
   ]
  },
  {
   "cell_type": "code",
   "execution_count": null,
   "metadata": {},
   "outputs": [],
   "source": [
    "# 5\n",
    "\"\"\" You have some DNA sequence: AGTACTAGAGCATTCTATGGAG.\n",
    "Find out which peptides could be created from it and sort them by their length.\n",
    "Use as much Biopython modules as possible.\n",
    "\"\"\""
   ]
  },
  {
   "cell_type": "code",
   "execution_count": 15,
   "metadata": {},
   "outputs": [
    {
     "name": "stdout",
     "output_type": "stream",
     "text": [
      "ME\n",
      "ML*Y\n",
      "LHRML\n",
      "STRAFYG\n",
      "STRAFYG\n",
      "LHRML*Y\n"
     ]
    }
   ],
   "source": [
    "from Bio.Seq import Seq\n",
    "\n",
    "dna = Seq(\"AGTACTAGAGCATTCTATGGAG\")\n",
    "\n",
    "prots = []\n",
    "\n",
    "# 1. Peptides from original dna string\n",
    "## a) not taking stop codon into account\n",
    "prots.append(str(dna.translate()))\n",
    "## b) taking stop codon into acount\n",
    "prots.append(str(dna.translate(to_stop = True)))\n",
    "\n",
    "\n",
    "# 2. Peptides from second dna string (= reverse complement to original)\n",
    "dna_rev_compl = dna.reverse_complement()\n",
    "## a) not taking stop codon into account\n",
    "prots.append(str(dna_rev_compl.translate()))\n",
    "## b) taking stop codon into acount\n",
    "prots.append(str(dna_rev_compl.translate(to_stop = True)))\n",
    "\n",
    "\n",
    "\n",
    "# 3. from RNA \n",
    "\n",
    "## a) transcribe original dna and find start codon -> translate from start codon\n",
    "rna = dna.transcribe()\n",
    "rna_from_start = rna[rna.find(\"AUG\"):]\n",
    "# make this seq a multiple of three starting from start codon\n",
    "rna_from_start = rna_from_start[: len(rna_from_start) - len(rna_from_start)%3]\n",
    "prots.append(str(rna_from_start.translate()))\n",
    "\n",
    "## b) transcribe reverse complement dna and find start codon -> translate from start codon\n",
    "rna_rev = dna_rev_compl.transcribe()\n",
    "rna_rev_from_start = rna_rev[rna_rev.find(\"AUG\"):]\n",
    "# make this seq a multiple of three starting from start codon\n",
    "rna_rev_from_start = rna_rev_from_start[: len(rna_rev_from_start) - len(rna_rev_from_start)%3]\n",
    "prots.append(str(rna_rev_from_start.translate()))\n",
    "\n",
    "\n",
    "print(*sorted(prots, key=len), sep=\"\\n\")"
   ]
  },
  {
   "cell_type": "markdown",
   "metadata": {},
   "source": [
    "## TASK 6"
   ]
  },
  {
   "cell_type": "code",
   "execution_count": 16,
   "metadata": {},
   "outputs": [],
   "source": [
    "# 6\n",
    "\"\"\" TASK: Try to create one-line function (without (!!!) using Bio package) \n",
    "that returns reverse complementary to a given sequence. \n",
    "Hint: using dictionaty & list comprehensions might be helpful.\n",
    "\"\"\"\n",
    "\n",
    "def rev_compl_one_line(seq):\n",
    "    return \"\".join([{\"A\": \"T\", \"T\": \"A\", \"G\": \"C\", \"C\": \"G\"}[x] for x in seq])"
   ]
  },
  {
   "cell_type": "code",
   "execution_count": 18,
   "metadata": {},
   "outputs": [
    {
     "data": {
      "text/plain": [
       "'TGACTTTAAA'"
      ]
     },
     "execution_count": 18,
     "metadata": {},
     "output_type": "execute_result"
    }
   ],
   "source": [
    "rev_compl_one_line(\"ACTGAAATTT\")"
   ]
  }
 ],
 "metadata": {
  "kernelspec": {
   "display_name": "Python 3",
   "language": "python",
   "name": "python3"
  },
  "language_info": {
   "codemirror_mode": {
    "name": "ipython",
    "version": 3
   },
   "file_extension": ".py",
   "mimetype": "text/x-python",
   "name": "python",
   "nbconvert_exporter": "python",
   "pygments_lexer": "ipython3",
   "version": "3.8.5"
  }
 },
 "nbformat": 4,
 "nbformat_minor": 2
}
