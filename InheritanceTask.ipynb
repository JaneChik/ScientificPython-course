{
 "cells": [
  {
   "cell_type": "markdown",
   "id": "ceb8d264",
   "metadata": {},
   "source": [
    "# Homework. Inheritance"
   ]
  },
  {
   "cell_type": "markdown",
   "id": "1db23eb6",
   "metadata": {},
   "source": [
    "## Functions"
   ]
  },
  {
   "cell_type": "markdown",
   "id": "d430d984",
   "metadata": {},
   "source": [
    "Function to deal with json representation and create reversed dictionary:"
   ]
  },
  {
   "cell_type": "code",
   "execution_count": 87,
   "id": "3ef9f321",
   "metadata": {},
   "outputs": [],
   "source": [
    "def json_get(d, d_all):\n",
    "    for el in d[\"parents\"]:\n",
    "        if el not in d_all:\n",
    "            d_all[el] = [d[\"name\"]]\n",
    "        else:\n",
    "            d_all[el].append(d[\"name\"])\n",
    "    if d[\"name\"] not in d_all:\n",
    "        d_all[d[\"name\"]] = []"
   ]
  },
  {
   "cell_type": "markdown",
   "id": "52b743c9",
   "metadata": {},
   "source": [
    "Function to find all descendants"
   ]
  },
  {
   "cell_type": "code",
   "execution_count": 88,
   "id": "4f74a098",
   "metadata": {},
   "outputs": [],
   "source": [
    "def dfs(adj_dict, u, answer):\n",
    "    visited[u] = True\n",
    "    for el in adj_dict[u]:\n",
    "        if not visited[el] and el not in stack:\n",
    "            stack.append(el)\n",
    "    if len(stack) == 0:\n",
    "        answer.append(visited)\n",
    "        return \n",
    "    else:\n",
    "        dfs(adj_dict, stack.pop(0), answer)"
   ]
  },
  {
   "cell_type": "markdown",
   "id": "6cfffcfb",
   "metadata": {},
   "source": [
    "## Example of usage"
   ]
  },
  {
   "cell_type": "markdown",
   "id": "f264b306",
   "metadata": {},
   "source": [
    "### №1"
   ]
  },
  {
   "cell_type": "markdown",
   "id": "d8b8f023",
   "metadata": {},
   "source": [
    "**Sample Input**\n",
    "\n",
    "[{\"name\": \"A\", \"parents\": []}, {\"name\": \"B\", \"parents\": [\"A\", \"C\"]}, {\"name\": \"C\", \"parents\": [\"A\"]}]"
   ]
  },
  {
   "cell_type": "markdown",
   "id": "0b7d54d9",
   "metadata": {},
   "source": [
    "**Sample output**\n",
    "\n",
    "A : 3\\\n",
    "B : 1\\\n",
    "C : 2"
   ]
  },
  {
   "cell_type": "code",
   "execution_count": 89,
   "id": "fe1203cd",
   "metadata": {},
   "outputs": [],
   "source": [
    "input_1 = [{\"name\": \"A\", \"parents\": []}, \n",
    "           {\"name\": \"B\", \"parents\": [\"A\", \"C\"]}, \n",
    "           {\"name\": \"C\", \"parents\": [\"A\"]}]"
   ]
  },
  {
   "cell_type": "markdown",
   "id": "bd4c8df8",
   "metadata": {},
   "source": [
    "### Create adjuscent dictionary from this input"
   ]
  },
  {
   "cell_type": "code",
   "execution_count": 90,
   "id": "3a49f8eb",
   "metadata": {},
   "outputs": [
    {
     "name": "stdout",
     "output_type": "stream",
     "text": [
      "{'A': ['B', 'C'], 'B': [], 'C': ['B']}\n"
     ]
    }
   ],
   "source": [
    "adj = {}\n",
    "for elem in input_1:\n",
    "    json_get(elem, adj)\n",
    "    \n",
    "adj = dict(sorted(adj.items()))\n",
    "print(adj)"
   ]
  },
  {
   "cell_type": "markdown",
   "id": "2d8fc549",
   "metadata": {},
   "source": [
    "### Print number of descendants for each class"
   ]
  },
  {
   "cell_type": "code",
   "execution_count": 95,
   "id": "920903f5",
   "metadata": {},
   "outputs": [
    {
     "name": "stdout",
     "output_type": "stream",
     "text": [
      "A: 3\n",
      "B: 1\n",
      "C: 2\n"
     ]
    }
   ],
   "source": [
    "ans = []\n",
    "stack = []\n",
    "\n",
    "for el in list(adj.keys()):\n",
    "    visited = {item[0]: False for item in adj.items()}\n",
    "    dfs(adj, el, ans)\n",
    "    print(el+':', sum(ans[-1].values()))"
   ]
  },
  {
   "cell_type": "markdown",
   "id": "145d99d5",
   "metadata": {},
   "source": [
    "### №2"
   ]
  },
  {
   "cell_type": "markdown",
   "id": "3f2b08ad",
   "metadata": {},
   "source": [
    "**Sample Input**\n",
    "\n",
    "[{\"name\": \"B\", \"parents\": [\"A\", \"C\"]}, {\"name\": \"C\", \"parents\":\n",
    "[\"A\"]}, {\"name\": \"A\", \"parents\": []}, {\"name\": \"D\", \"parents\":[\"C\",\n",
    "\"F\"]}, {\"name\": \"E\", \"parents\":[\"D\"]}, {\"name\": \"F\", \"parents\":[]}]"
   ]
  },
  {
   "cell_type": "markdown",
   "id": "1bd4168f",
   "metadata": {},
   "source": [
    "**Sample output**\n",
    "\n",
    "A : 5\\\n",
    "B : 1\\\n",
    "C : 4\\\n",
    "D : 2\\\n",
    "E : 1\\\n",
    "F : 3"
   ]
  },
  {
   "cell_type": "code",
   "execution_count": 92,
   "id": "07c1b0ea",
   "metadata": {},
   "outputs": [],
   "source": [
    "input_2 = [{\"name\": \"B\", \"parents\": [\"A\", \"C\"]}, \n",
    "           {\"name\": \"C\", \"parents\": [\"A\"]}, \n",
    "           {\"name\": \"A\", \"parents\": []}, \n",
    "           {\"name\": \"D\", \"parents\":[\"C\", \"F\"]}, \n",
    "           {\"name\": \"E\", \"parents\":[\"D\"]}, \n",
    "           {\"name\": \"F\", \"parents\":[]}]"
   ]
  },
  {
   "cell_type": "markdown",
   "id": "13046cbb",
   "metadata": {},
   "source": [
    "### Create adjuscent dictionary from this input"
   ]
  },
  {
   "cell_type": "code",
   "execution_count": 93,
   "id": "9c771227",
   "metadata": {},
   "outputs": [
    {
     "name": "stdout",
     "output_type": "stream",
     "text": [
      "{'A': ['B', 'C'], 'B': [], 'C': ['B', 'D'], 'D': ['E'], 'E': [], 'F': ['D']}\n"
     ]
    }
   ],
   "source": [
    "adj_2 = {}\n",
    "for elem in input_2:\n",
    "    json_get(elem, adj_2)\n",
    "\n",
    "adj_2 = dict(sorted(adj_2.items()))\n",
    "print(adj_2)"
   ]
  },
  {
   "cell_type": "markdown",
   "id": "bfc0b885",
   "metadata": {},
   "source": [
    "### Print number of descendants for each class"
   ]
  },
  {
   "cell_type": "code",
   "execution_count": 97,
   "id": "dec2ec86",
   "metadata": {},
   "outputs": [
    {
     "name": "stdout",
     "output_type": "stream",
     "text": [
      "A: 5\n",
      "B: 1\n",
      "C: 4\n",
      "D: 2\n",
      "E: 1\n",
      "F: 3\n"
     ]
    }
   ],
   "source": [
    "ans_2 = []\n",
    "stack = []\n",
    "\n",
    "for el in list(adj_2.keys()):\n",
    "    visited = {item[0]: False for item in adj_2.items()}\n",
    "    dfs(adj_2, el, ans_2)\n",
    "    print(el+':', sum(ans_2[-1].values()))"
   ]
  }
 ],
 "metadata": {
  "kernelspec": {
   "display_name": "Python 3",
   "language": "python",
   "name": "python3"
  },
  "language_info": {
   "codemirror_mode": {
    "name": "ipython",
    "version": 3
   },
   "file_extension": ".py",
   "mimetype": "text/x-python",
   "name": "python",
   "nbconvert_exporter": "python",
   "pygments_lexer": "ipython3",
   "version": "3.8.8"
  }
 },
 "nbformat": 4,
 "nbformat_minor": 5
}
